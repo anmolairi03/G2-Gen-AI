
n = int(input())
print(['zero','one','two','three','four','five','six','seven','eight','nine'][n] if 0 <= n <= 9 else 'Outside range')

print("Please select any one operation:\n1.Add\n2.Sub\n3.Mul\n4.Div\n5.Quot\n6.Rem\n7.Pow\n8.Exit")
op = int(input())
a = int(input())
b = int(input())
if op==1: print(a+b)
elif op==2: print(a-b)
elif op==3: print(a*b)
elif op==4: print(a/b)
elif op==5: print(a//b)
elif op==6: print(a%b)
elif op==7: print(a**b)

y = int(input())
print("Leap year" if y%4==0 and (y%100!=0 or y%400==0) else "Not leap")

n = int(input())
print("Even" if n%2==0 else "Odd")

a, b = int(input()), int(input())
if a > b: print("a is greater")
elif a < b: print("a is smaller")
else: print("a is equal")
print("a is greater" if a > b else "a is smaller" if a < b else "a is equal")

a, b, c = int(input()), int(input()), int(input())
if a>b and a>c: print("a is greatest")
elif b>a and b>c: print("b is greatest")
else: print("c is greatest")
print("a" if a>b and a>c else "b" if b>c else "c")

s = 'Write a Python program to find the length of the my_str'
count = 0
for i in s: count += 1
print(count)

s = 'peter piper picked a peck of pickled peppers.\n'
count = 0
for i in s:
    if i == 'p': count += 1
print(count)

s = 'peter piper picked a peck of pickled peppers.'
for i in range(len(s)):
    if s[i] == 'p': print(i)

s = 'peter piper picked a peck of pickled peppers.'
res = []
word = ''
for c in s:
    if c != ' ': word += c
    else:
        res.append(word)
        word = ''
res.append(word.strip('.'))
print(res)

s = 'peter piper picked a peck of pickled peppers.'
res = s.strip('.').split()
res.reverse()
print(' '.join(res))

s = 'peter piper picked a peck of pickled peppers.'
rev = ''
for i in range(len(s)-1, -1, -1): rev += s[i]
print(rev)

s = 'peter piper picked a peck of pickled peppers.'
words = s.strip('.').split()
res = ''
for w in words[::-1]:
    res += w[::-1] + ' '
print(res.strip())

s = 'peter piper picked a peck of pickled peppers.'
res = ''
for w in s.split():
    res += w.capitalize() + ' '
print(res.strip())

s = 'Peter Piper Picked A Peck Of Pickled Peppers.'
print(s.lower().capitalize())

my_str = 'Peter Piper Picked A Peck Of Pickled Peppers.'
sub_str = 'Pickl'
found = False
for i in range(len(my_str)-len(sub_str)+1):
    if my_str[i:i+len(sub_str)] == sub_str:
        print(i)
        found = True
        break

my_str = 'Peter Piper Picked A Peck Of Pickled Peppers.'
sub_str = 'Peck'
new_str = 'Pack'
found = False
res = ''
i = 0
while i < len(my_str):
    if my_str[i:i+len(sub_str)] == sub_str and not found:
        res += new_str
        i += len(sub_str)
        found = True
    else:
        res += my_str[i]
        i += 1
print(res if found else "Not found")

s = 'Peter Piper Picked A Peck Of Pickled Peppers.'
sub_str = 'Peck'
lpad = (len(s)-len(sub_str))//2
rpad = len(s) - len(sub_str) - lpad
print('*'*lpad + sub_str + '*'*rpad)

s = 'This is Python class'
sep = ' is'
res = []
temp = ''
i = 0
while i < len(s):
    if s[i:i+len(sep)] == sep:
        res.append(temp)
        res.append(sep.strip())
        temp = ''
        i += len(sep)
    else:
        temp += s[i]
        i += 1
res.append(temp)
print(res)
