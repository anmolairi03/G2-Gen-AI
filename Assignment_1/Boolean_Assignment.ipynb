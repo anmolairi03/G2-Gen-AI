
a = True
type(a), id(a)

x = True
y = True
id(x), id(y)

a = True
b = False
a + b, a - b, a * b, a / b, a % b, a // b, a ** b

a > b, a < b, a >= b, a <= b

a == b, a != b

print(True and True)
print(False and True)
print(True and False)
print(False and False)

print(True or True)
print(False or True)
print(True or False)
print(False or False)

print(not True)
print(not False)

a, b = True, False
a & a, a | b, a ^ b, ~a, a << 2, a >> 2

a = True
b = True
print(a is b)
print(a is not b)

a = False
b = False
print(a is b)
print(a is not b)

print(True in [10,10.20,10+20j,'Python', True])
print(False in (10,10.20,10+20j,'Python', False))
print(True in {1,2,3,True})
print(True in {True:100, False:200, True:300})
print(False in {True:100, False:200, True:300})
