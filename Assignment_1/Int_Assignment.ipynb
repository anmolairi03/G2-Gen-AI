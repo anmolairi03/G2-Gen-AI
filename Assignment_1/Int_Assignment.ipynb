
a = 100
type(a), id(a)

x = 100
y = 100
id(x), id(y)

x = -10
y = -10
id(x), id(y)

a = 20
b = 10
a + b, a - b, a * b, a / b, a % b, a // b, a ** b

a > b, a < b, a >= b, a <= b

a == b, a != b

print(10 and 20)
print(0 and 20)
print(20 and 0)
print(0 and 0)

print(10 or 20)
print(0 or 20)
print(20 or 0)
print(0 or 0)

print(not 10)
print(not 0)

a, b = 10, 20
a & b, a | b, a ^ b, ~a, a << 2, a >> 2

a = 10
b = 10
print(a is b)
print(a is not b)

a = 1000
b = 1000
print(a is b)
print(a is not b)

print(10+(10*32)//2**5&20+(~(-10))<<2)

print('2' in 'Python2.7.8')
print(10 in [10,10.20,10+20j,'Python'])
print(10 in (10,10.20,10+20j,'Python'))
print(2 in {1,2,3})
print(3 in {1:100, 2:200, 3:300})
print(10 in range(20))

b = 0b1010
o = 0o12
h = 0xA

bin(9876), oct(9876), hex(9876)

a = 0b1010000
print(a)
b = 0o7436
print(b)
c = 0xfade
print(c)
print(bin(80))
print(oct(3870))
print(hex(64222))
print(bin(0b1010000))
print(bin(0xfade))
print(oct(0xfade))
print(oct(0o7436))
print(hex(0b1010000))
print(hex(0xfade))
